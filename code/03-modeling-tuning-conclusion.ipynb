{
 "cells": [
  {
   "cell_type": "markdown",
   "metadata": {},
   "source": [
    "# Model Prep, Selection, Tuning and Conclusion\n",
    "\n",
    "In this notebook, with the preprocessed data, I will apply a few models and select the best parameters to train the data. \n",
    "\n",
    "Contents:\n",
    "- [Imports](#Import-libraries-and-data)\n",
    "- [Model Prep](#Model-preparation)\n",
    "- [Model Selection](#Model-selection)\n",
    "- [Model Hyperparameter Tuning and Evaluation](#Model-hyperparameter-tuning-and-evaluation)\n",
    "- [Conclusion](#Conclusion)"
   ]
  },
  {
   "cell_type": "markdown",
   "metadata": {},
   "source": [
    "### Import libraries and data"
   ]
  },
  {
   "cell_type": "code",
   "execution_count": 100,
   "metadata": {},
   "outputs": [],
   "source": [
    "# import libraries\n",
    "import numpy as np\n",
    "import pandas as pd\n",
    "import warnings\n",
    "warnings.filterwarnings('ignore')\n",
    "from prettytable import PrettyTable\n",
    "from imblearn.over_sampling import RandomOverSampler\n",
    "import matplotlib.pyplot as plt\n",
    "\n",
    "from sklearn.feature_extraction.text import CountVectorizer, TfidfVectorizer\n",
    "from sklearn.naive_bayes import MultinomialNB\n",
    "from sklearn.pipeline import Pipeline\n",
    "from sklearn.model_selection import train_test_split, GridSearchCV, cross_val_score\n",
    "from sklearn.linear_model import LogisticRegression\n",
    "from sklearn.tree import DecisionTreeClassifier\n",
    "from sklearn.ensemble import RandomForestClassifier\n",
    "from sklearn.svm import SVC\n",
    "from sklearn.metrics import confusion_matrix, accuracy_score, precision_score, recall_score, f1_score, roc_auc_score, roc_curve, auc"
   ]
  },
  {
   "cell_type": "code",
   "execution_count": 101,
   "metadata": {},
   "outputs": [
    {
     "data": {
      "text/html": [
       "<div>\n",
       "<style scoped>\n",
       "    .dataframe tbody tr th:only-of-type {\n",
       "        vertical-align: middle;\n",
       "    }\n",
       "\n",
       "    .dataframe tbody tr th {\n",
       "        vertical-align: top;\n",
       "    }\n",
       "\n",
       "    .dataframe thead th {\n",
       "        text-align: right;\n",
       "    }\n",
       "</style>\n",
       "<table border=\"1\" class=\"dataframe\">\n",
       "  <thead>\n",
       "    <tr style=\"text-align: right;\">\n",
       "      <th></th>\n",
       "      <th>titles</th>\n",
       "      <th>subreddit</th>\n",
       "    </tr>\n",
       "  </thead>\n",
       "  <tbody>\n",
       "    <tr>\n",
       "      <th>0</th>\n",
       "      <td>twitter s ban on trump strips us of moral high...</td>\n",
       "      <td>1</td>\n",
       "    </tr>\n",
       "    <tr>\n",
       "      <th>1</th>\n",
       "      <td>parler finds refuge with right leaning webhost...</td>\n",
       "      <td>1</td>\n",
       "    </tr>\n",
       "    <tr>\n",
       "      <th>2</th>\n",
       "      <td>sorry cleveland</td>\n",
       "      <td>1</td>\n",
       "    </tr>\n",
       "    <tr>\n",
       "      <th>3</th>\n",
       "      <td>elon musk a lot of people are going to be supe...</td>\n",
       "      <td>1</td>\n",
       "    </tr>\n",
       "    <tr>\n",
       "      <th>4</th>\n",
       "      <td>democrat law professor trump never actually ca...</td>\n",
       "      <td>1</td>\n",
       "    </tr>\n",
       "  </tbody>\n",
       "</table>\n",
       "</div>"
      ],
      "text/plain": [
       "                                              titles  subreddit\n",
       "0  twitter s ban on trump strips us of moral high...          1\n",
       "1  parler finds refuge with right leaning webhost...          1\n",
       "2                                    sorry cleveland          1\n",
       "3  elon musk a lot of people are going to be supe...          1\n",
       "4  democrat law professor trump never actually ca...          1"
      ]
     },
     "execution_count": 101,
     "metadata": {},
     "output_type": "execute_result"
    }
   ],
   "source": [
    "# import data\n",
    "titles_lemm = pd.read_csv(\"../data/titles_lemm.csv\")\n",
    "titles_stemm = pd.read_csv(\"../data/titles_stemm.csv\")\n",
    "comments_lemm = pd.read_csv(\"../data/comments_lemm.csv\")\n",
    "comments_stemm = pd.read_csv(\"../data/comments_stemm.csv\")\n",
    "#check\n",
    "titles_lemm.head()"
   ]
  },
  {
   "cell_type": "markdown",
   "metadata": {},
   "source": [
    "### Model preparation\n",
    "\n",
    "Split data into X (text feature) and y (target)."
   ]
  },
  {
   "cell_type": "code",
   "execution_count": 102,
   "metadata": {},
   "outputs": [],
   "source": [
    "Xtl = titles_lemm['titles'].astype('U').values# pandas series cos countvectorizer requires a vector\n",
    "ytl = titles_lemm['subreddit'].astype('U').values\n",
    "\n",
    "Xts = titles_stemm['titles'].astype('U').values # pandas series cos countvectorizer requires a vector\n",
    "yts = titles_stemm['subreddit'].astype('U').values\n",
    "\n",
    "Xcl = comments_lemm['comments'].astype('U').values # pandas series cos countvectorizer requires a vector\n",
    "ycl = comments_lemm['subreddit'].astype('U').values\n",
    "\n",
    "Xcs = comments_stemm['comments'].astype('U').values # pandas series cos countvectorizer requires a vector\n",
    "ycs = comments_stemm['subreddit'].astype('U').values"
   ]
  },
  {
   "cell_type": "markdown",
   "metadata": {},
   "source": [
    "As there is an imbalanced class, I apply random oversampling, using RandomOverSampler (ROS) to balance the class. With random oversampling, randomly selected samples from the minority class will be appended, with replacement, to the original dataset (Imbalanced-learn, 2017)."
   ]
  },
  {
   "cell_type": "code",
   "execution_count": 103,
   "metadata": {},
   "outputs": [],
   "source": [
    "#instantiate\n",
    "ros = RandomOverSampler(sampling_strategy = 'minority')\n",
    "#fit\n",
    "Xtl_ros, ytl_ros = ros.fit_resample(Xtl.reshape(-1,1),ytl) \n",
    "Xts_ros, yts_ros = ros.fit_resample(Xts.reshape(-1,1),yts)\n",
    "Xcl_ros, ycl_ros = ros.fit_resample(Xcl.reshape(-1,1),ycl)\n",
    "Xcs_ros, ycs_ros = ros.fit_resample(Xcs.reshape(-1,1),ycs)"
   ]
  },
  {
   "cell_type": "code",
   "execution_count": 104,
   "metadata": {},
   "outputs": [],
   "source": [
    "#change to array suitable to fit\n",
    "Xtl_ros = Xtl_ros.ravel()\n",
    "Xts_ros = Xts_ros.ravel()\n",
    "Xcl_ros = Xcl_ros.ravel()\n",
    "Xcs_ros = Xcs_ros.ravel()"
   ]
  },
  {
   "cell_type": "markdown",
   "metadata": {},
   "source": [
    "Split data into training and test sets, then split the training set into training and validation sets."
   ]
  },
  {
   "cell_type": "code",
   "execution_count": 105,
   "metadata": {},
   "outputs": [],
   "source": [
    "# split into train and testing set\n",
    "Xtl_train, Xtl_test, ytl_train, ytl_test = train_test_split(Xtl_ros, ytl_ros, random_state = 42)\n",
    "Xts_train, Xts_test, yts_train, yts_test = train_test_split(Xts_ros, yts_ros, random_state = 42)\n",
    "Xcl_train, Xcl_test, ycl_train, ycl_test = train_test_split(Xcl_ros, ycl_ros, random_state = 42)\n",
    "Xcs_train, Xcs_test, ycs_train, ycs_test = train_test_split(Xcs_ros, ycs_ros, random_state = 42)\n",
    "\n",
    "# split train set into train and validation set\n",
    "Xtl_train, Xtl_val, ytl_train, ytl_val = train_test_split(Xtl_train, ytl_train, random_state = 42)\n",
    "Xts_train, Xts_val, yts_train, yts_val = train_test_split(Xts_train, yts_train, random_state = 42)\n",
    "Xcl_train, Xcl_val, ycl_train, ycl_val = train_test_split(Xcl_train, ycl_train, random_state = 42)\n",
    "Xcs_train, Xcs_val, ycs_train, ycs_val = train_test_split(Xcs_train, ycs_train, random_state = 42)"
   ]
  },
  {
   "cell_type": "markdown",
   "metadata": {},
   "source": [
    "### Model selection"
   ]
  },
  {
   "cell_type": "markdown",
   "metadata": {},
   "source": [
    "I first fit data into a few pipeline models, without changing the parameters. This will be the baseline model from which I will then score and select the best performing model to go forward with. In evaluating the models, there a few metrics considered below (Vidhya, 2020) : \n",
    "\n",
    "| Metric | Elaboration and Analysis |\n",
    "| :-----: | :-------- | \n",
    "| Accuracy | provides fraction of predictions that the model got right (ie. number of correct predictions / total number of predictions). This metric may not work well on imbalanced classes like the data I collected, but since I have balanced the classes with `RandomOverSampling`, I can rely on the accuracy metric.  |\n",
    "| Precision | provides the fraction of correctly identified positives out of all predicted positives. [TP / (TP + FP)]. This indicates how much we can trust the algorithm when it predicts a class. |\n",
    "| Recall/Sensitivity | provides the fraction of correctly identified as positive out of all positives. [TP / (TP + FN)] . This shows how many of the true labels of the class is predicted correctly. |\n",
    "| F1-score | a harmonic mean of precision and recall. While we want to maximise precision and recall, it is a trade-off. Since I have no bias towards any classes (ie. predicting a post to be from `r/Conservative` is as good/bad as predicting a post to be from `r/democrats`), the F1 score may not as important as accuracy, foy this project. |\n",
    "\n",
    "Once selected the best performing model, I will then tune the hyperparameters."
   ]
  },
  {
   "cell_type": "code",
   "execution_count": 106,
   "metadata": {},
   "outputs": [],
   "source": [
    "#pipelines\n",
    "pipe1 = Pipeline([\n",
    "    ('cvec', CountVectorizer()),\n",
    "    ('logreg', LogisticRegression())\n",
    "])\n",
    "\n",
    "pipe2 = Pipeline([\n",
    "    ('tvec', TfidfVectorizer()),\n",
    "    ('nb', MultinomialNB())\n",
    "])\n",
    "\n",
    "pipe3 = Pipeline([\n",
    "    ('cvec', CountVectorizer()),\n",
    "    ('dt', DecisionTreeClassifier())\n",
    "])\n",
    "\n",
    "pipe4 = Pipeline([\n",
    "    ('cvec', CountVectorizer()),\n",
    "    ('rf', RandomForestClassifier())\n",
    "])\n",
    "\n",
    "pipe5 = Pipeline([\n",
    "    ('cvec', CountVectorizer()),\n",
    "    ('sv', SVC())\n",
    "])\n",
    "\n",
    "#params\n",
    "pipe1_params = {}\n",
    "pipe2_params = {}\n",
    "pipe3_params = {}\n",
    "pipe4_params = {}\n",
    "pipe5_params = {}"
   ]
  },
  {
   "cell_type": "code",
   "execution_count": 107,
   "metadata": {},
   "outputs": [],
   "source": [
    "# load pipe into gridsearch but without param changes, using f1 as the scoring method\n",
    "gs1 = GridSearchCV(pipe1, param_grid = pipe1_params, cv = 5)\n",
    "gs2 = GridSearchCV(pipe2, param_grid = pipe2_params, cv = 5)\n",
    "gs3 = GridSearchCV(pipe3, param_grid = pipe3_params, cv = 5)\n",
    "gs4 = GridSearchCV(pipe4, param_grid = pipe4_params, cv = 5)\n",
    "gs5 = GridSearchCV(pipe5, param_grid = pipe5_params, cv = 5)\n",
    "\n",
    "# fit model on first pipe\n",
    "gs1.fit(Xtl_train,ytl_train)\n",
    "gs1_tl_score = round(gs1.best_score_,3)\n",
    "gs1_tl_train_score = round(gs1.score(Xtl_train,ytl_train),3)\n",
    "gs1_tl_val_score = round(gs1.score(Xtl_val,ytl_val),3)\n",
    "\n",
    "gs1.fit(Xts_train,yts_train)\n",
    "gs1_ts_score = round(gs1.best_score_,3)\n",
    "gs1_ts_train_score = round(gs1.score(Xts_train,yts_train),3)\n",
    "gs1_ts_val_score = round(gs1.score(Xts_val,yts_val),3)\n",
    "\n",
    "gs1.fit(Xcl_train,ycl_train)\n",
    "gs1_cl_score = round(gs1.best_score_,3)\n",
    "gs1_cl_train_score = round(gs1.score(Xcl_train,ycl_train),3)\n",
    "gs1_cl_val_score = round(gs1.score(Xcl_val,ycl_val),3)\n",
    "\n",
    "gs1.fit(Xcs_train,ycs_train)\n",
    "gs1_cs_score = round(gs1.best_score_,3)\n",
    "gs1_cs_train_score = round(gs1.score(Xcs_train,ycs_train),3)\n",
    "gs1_cs_val_score = round(gs1.score(Xcs_val,ycs_val),3)\n",
    "\n",
    "# fit model on second pipe\n",
    "gs2.fit(Xtl_train,ytl_train)\n",
    "gs2_tl_score = round(gs2.best_score_,3)\n",
    "gs2_tl_train_score = round(gs2.score(Xtl_train,ytl_train),3)\n",
    "gs2_tl_val_score = round(gs2.score(Xtl_val,ytl_val),3)\n",
    "\n",
    "gs2.fit(Xts_train,yts_train)\n",
    "gs2_ts_score = round(gs2.best_score_,3)\n",
    "gs2_ts_train_score = round(gs2.score(Xts_train,yts_train),3)\n",
    "gs2_ts_val_score = round(gs2.score(Xts_val,yts_val),3)\n",
    "\n",
    "gs2.fit(Xcl_train,ycl_train)\n",
    "gs2_cl_score = round(gs2.best_score_,3)\n",
    "gs2_cl_train_score = round(gs2.score(Xcl_train,ycl_train),3)\n",
    "gs2_cl_val_score = round(gs2.score(Xcl_val,ycl_val),3)\n",
    "\n",
    "gs2.fit(Xcs_train,ycs_train)\n",
    "gs2_cs_score = round(gs2.best_score_,3)\n",
    "gs2_cs_train_score = round(gs2.score(Xcs_train,ycs_train),3)\n",
    "gs2_cs_val_score = round(gs2.score(Xcs_val,ycs_val),3)\n",
    "\n",
    "# fit model on third pipe\n",
    "gs3.fit(Xtl_train,ytl_train)\n",
    "gs3_tl_score = round(gs3.best_score_,3)\n",
    "gs3_tl_train_score = round(gs3.score(Xtl_train,ytl_train),3)\n",
    "gs3_tl_val_score = round(gs3.score(Xtl_val,ytl_val),3)\n",
    "\n",
    "gs3.fit(Xts_train,yts_train)\n",
    "gs3_ts_score = round(gs3.best_score_,3)\n",
    "gs3_ts_train_score = round(gs3.score(Xts_train,yts_train),3)\n",
    "gs3_ts_val_score = round(gs3.score(Xts_val,yts_val),3)\n",
    "\n",
    "gs3.fit(Xcl_train,ycl_train)\n",
    "gs3_cl_score = round(gs3.best_score_,3)\n",
    "gs3_cl_train_score = round(gs3.score(Xcl_train,ycl_train),3)\n",
    "gs3_cl_val_score = round(gs3.score(Xcl_val,ycl_val),3)\n",
    "\n",
    "gs3.fit(Xcs_train,ycs_train)\n",
    "gs3_cs_score = round(gs3.best_score_,3)\n",
    "gs3_cs_train_score = round(gs3.score(Xcs_train,ycs_train),3)\n",
    "gs3_cs_val_score = round(gs3.score(Xcs_val,ycs_val),3)\n",
    "\n",
    "# fit model on fourth pipe\n",
    "gs4.fit(Xtl_train,ytl_train)\n",
    "gs4_tl_score = round(gs4.best_score_,3)\n",
    "gs4_tl_train_score = round(gs4.score(Xtl_train,ytl_train),3)\n",
    "gs4_tl_val_score = round(gs4.score(Xtl_val,ytl_val),3)\n",
    "\n",
    "gs4.fit(Xts_train,yts_train)\n",
    "gs4_ts_score = round(gs4.best_score_,3)\n",
    "gs4_ts_train_score = round(gs4.score(Xts_train,yts_train),3)\n",
    "gs4_ts_val_score = round(gs4.score(Xts_val,yts_val),3)\n",
    "\n",
    "gs4.fit(Xcl_train,ycl_train)\n",
    "gs4_cl_score = round(gs4.best_score_,3)\n",
    "gs4_cl_train_score = round(gs4.score(Xcl_train,ycl_train),3)\n",
    "gs4_cl_val_score = round(gs4.score(Xcl_val,ycl_val),3)\n",
    "\n",
    "gs4.fit(Xcs_train,ycs_train)\n",
    "gs4_cs_score = round(gs4.best_score_,3)\n",
    "gs4_cs_train_score = round(gs4.score(Xcs_train,ycs_train),3)\n",
    "gs4_cs_val_score = round(gs4.score(Xcs_val,ycs_val),3)\n",
    "\n",
    "# fit model on fourth pipe\n",
    "gs5.fit(Xtl_train,ytl_train)\n",
    "gs5_tl_score = round(gs5.best_score_,3)\n",
    "gs5_tl_train_score = round(gs5.score(Xtl_train,ytl_train),3)\n",
    "gs5_tl_val_score = round(gs5.score(Xtl_val,ytl_val),3)\n",
    "\n",
    "gs5.fit(Xts_train,yts_train)\n",
    "gs5_ts_score = round(gs5.best_score_,3)\n",
    "gs5_ts_train_score = round(gs5.score(Xts_train,yts_train),3)\n",
    "gs5_ts_val_score = round(gs5.score(Xts_val,yts_val),3)\n",
    "\n",
    "gs5.fit(Xcl_train,ycl_train)\n",
    "gs5_cl_score = round(gs5.best_score_,3)\n",
    "gs5_cl_train_score = round(gs5.score(Xcl_train,ycl_train),3)\n",
    "gs5_cl_val_score = round(gs5.score(Xcl_val,ycl_val),3)\n",
    "\n",
    "gs5.fit(Xcs_train,ycs_train)\n",
    "gs5_cs_score = round(gs5.best_score_,3)\n",
    "gs5_cs_train_score = round(gs5.score(Xcs_train,ycs_train),3)\n",
    "gs5_cs_val_score = round(gs5.score(Xcs_val,ycs_val),3)"
   ]
  },
  {
   "cell_type": "code",
   "execution_count": 108,
   "metadata": {},
   "outputs": [
    {
     "name": "stdout",
     "output_type": "stream",
     "text": [
      "+------------------------------------------------------------------------------------------------+\n",
      "|                 Results of Pipeline 1 (Count Vectorizer, Logistic Regression)                  |\n",
      "+----------------------------------+-------------+--------------+---------------+----------------+\n",
      "|                                  | Titles_Lemm | Titles_Stemm | Comments_Lemm | Comments_Stemm |\n",
      "+----------------------------------+-------------+--------------+---------------+----------------+\n",
      "| Best accuracy score across folds |    0.814    |    0.814     |     0.914     |     0.913      |\n",
      "|   Accuracy score on Train Set    |    0.994    |    0.996     |     0.983     |     0.985      |\n",
      "| Accuracy score on Validation Set |    0.786    |    0.821     |     0.931     |     0.932      |\n",
      "+----------------------------------+-------------+--------------+---------------+----------------+\n",
      "+------------------------------------------------------------------------------------------------+\n",
      "|               Results of Pipeline 2 (Tf-idf Vectorizer, Multinomial Naive Bayes)               |\n",
      "+----------------------------------+-------------+--------------+---------------+----------------+\n",
      "|                                  | Titles_Lemm | Titles_Stemm | Comments_Lemm | Comments_Stemm |\n",
      "+----------------------------------+-------------+--------------+---------------+----------------+\n",
      "| Best accuracy score across folds |    0.804    |    0.813     |     0.894     |     0.886      |\n",
      "|   Accuracy score on Train Set    |    0.963    |    0.962     |     0.954     |     0.955      |\n",
      "| Accuracy score on Validation Set |    0.791    |    0.818     |     0.901     |     0.897      |\n",
      "+----------------------------------+-------------+--------------+---------------+----------------+\n",
      "+------------------------------------------------------------------------------------------------+\n",
      "|               Results of Pipeline 3 (Count Vectorizer, Decision Tree Classifier)               |\n",
      "+----------------------------------+-------------+--------------+---------------+----------------+\n",
      "|                                  | Titles_Lemm | Titles_Stemm | Comments_Lemm | Comments_Stemm |\n",
      "+----------------------------------+-------------+--------------+---------------+----------------+\n",
      "| Best accuracy score across folds |    0.779    |    0.758     |     0.878     |     0.882      |\n",
      "|   Accuracy score on Train Set    |     1.0     |     1.0      |     0.993     |     0.994      |\n",
      "| Accuracy score on Validation Set |    0.783    |    0.802     |     0.905     |     0.891      |\n",
      "+----------------------------------+-------------+--------------+---------------+----------------+\n",
      "+------------------------------------------------------------------------------------------------+\n",
      "|               Results of Pipeline 4 (Count Vectorizer, Random Forest Classifier)               |\n",
      "+----------------------------------+-------------+--------------+---------------+----------------+\n",
      "|                                  | Titles_Lemm | Titles_Stemm | Comments_Lemm | Comments_Stemm |\n",
      "+----------------------------------+-------------+--------------+---------------+----------------+\n",
      "| Best accuracy score across folds |    0.825    |    0.827     |     0.948     |     0.951      |\n",
      "|   Accuracy score on Train Set    |     1.0     |     1.0      |     0.993     |     0.994      |\n",
      "| Accuracy score on Validation Set |    0.781    |    0.818     |     0.969     |     0.968      |\n",
      "+----------------------------------+-------------+--------------+---------------+----------------+\n",
      "+------------------------------------------------------------------------------------------------+\n",
      "|              Results of Pipeline 5 (Count Vectorizer, Support Vector Classifier)               |\n",
      "+----------------------------------+-------------+--------------+---------------+----------------+\n",
      "|                                  | Titles_Lemm | Titles_Stemm | Comments_Lemm | Comments_Stemm |\n",
      "+----------------------------------+-------------+--------------+---------------+----------------+\n",
      "| Best accuracy score across folds |    0.793    |    0.803     |     0.853     |     0.865      |\n",
      "|   Accuracy score on Train Set    |    0.982    |    0.986     |     0.927     |     0.934      |\n",
      "| Accuracy score on Validation Set |    0.767    |    0.807     |      0.88     |     0.883      |\n",
      "+----------------------------------+-------------+--------------+---------------+----------------+\n"
     ]
    }
   ],
   "source": [
    "# view results in table \n",
    "x = PrettyTable(title = \"Results of Pipeline 1 (Count Vectorizer, Logistic Regression)\", header_style = 'title', max_table_width = 120)\n",
    "x.field_names = [\" \", \"titles_lemm\", \"titles_stemm\", \"comments_lemm\", \"comments_stemm\"]\n",
    "x.add_row([\"Best accuracy score across folds\", gs1_tl_score, gs1_ts_score , gs1_cl_score, gs1_cs_score])\n",
    "x.add_row([\"Accuracy score on Train Set\", gs1_tl_train_score, gs1_ts_train_score, gs1_cl_train_score, gs1_cs_train_score])\n",
    "x.add_row([\"Accuracy score on Validation Set\", gs1_tl_val_score, gs1_ts_val_score, gs1_cl_val_score, gs1_cs_val_score])\n",
    "print(x)\n",
    "\n",
    "y = PrettyTable(title = \"Results of Pipeline 2 (Tf-idf Vectorizer, Multinomial Naive Bayes)\", header_style = 'title', max_table_width = 120)\n",
    "y.field_names = [\" \", \"titles_lemm\", \"titles_stemm\", \"comments_lemm\", \"comments_stemm\"]\n",
    "y.add_row([\"Best accuracy score across folds\", gs2_tl_score, gs2_ts_score , gs2_cl_score, gs2_cs_score])\n",
    "y.add_row([\"Accuracy score on Train Set\", gs2_tl_train_score, gs2_ts_train_score, gs2_cl_train_score, gs2_cs_train_score])\n",
    "y.add_row([\"Accuracy score on Validation Set\", gs2_tl_val_score, gs2_ts_val_score, gs2_cl_val_score, gs2_cs_val_score])\n",
    "print(y)\n",
    "\n",
    "z = PrettyTable(title = \"Results of Pipeline 3 (Count Vectorizer, Decision Tree Classifier)\", header_style = 'title', max_table_width = 120)\n",
    "z.field_names = [\" \", \"titles_lemm\", \"titles_stemm\", \"comments_lemm\", \"comments_stemm\"]\n",
    "z.add_row([\"Best accuracy score across folds\", gs3_tl_score, gs3_ts_score , gs3_cl_score, gs3_cs_score])\n",
    "z.add_row([\"Accuracy score on Train Set\", gs3_tl_train_score, gs3_ts_train_score, gs3_cl_train_score, gs3_cs_train_score])\n",
    "z.add_row([\"Accuracy score on Validation Set\", gs3_tl_val_score, gs3_ts_val_score, gs3_cl_val_score, gs3_cs_val_score])\n",
    "print(z)\n",
    "\n",
    "a = PrettyTable(title = \"Results of Pipeline 4 (Count Vectorizer, Random Forest Classifier)\", header_style = 'title', max_table_width = 120)\n",
    "a.field_names = [\" \", \"titles_lemm\", \"titles_stemm\", \"comments_lemm\", \"comments_stemm\"]\n",
    "a.add_row([\"Best accuracy score across folds\", gs4_tl_score, gs4_ts_score , gs4_cl_score, gs4_cs_score])\n",
    "a.add_row([\"Accuracy score on Train Set\", gs4_tl_train_score, gs4_ts_train_score, gs4_cl_train_score, gs4_cs_train_score])\n",
    "a.add_row([\"Accuracy score on Validation Set\", gs4_tl_val_score, gs4_ts_val_score, gs4_cl_val_score, gs4_cs_val_score])\n",
    "print(a)\n",
    "\n",
    "b = PrettyTable(title = \"Results of Pipeline 5 (Count Vectorizer, Support Vector Classifier)\", header_style = 'title', max_table_width = 120)\n",
    "b.field_names = [\" \", \"titles_lemm\", \"titles_stemm\", \"comments_lemm\", \"comments_stemm\"]\n",
    "b.add_row([\"Best accuracy score across folds\", gs5_tl_score, gs5_ts_score , gs5_cl_score, gs5_cs_score])\n",
    "b.add_row([\"Accuracy score on Train Set\", gs5_tl_train_score, gs5_ts_train_score, gs5_cl_train_score, gs5_cs_train_score])\n",
    "b.add_row([\"Accuracy score on Validation Set\", gs5_tl_val_score, gs5_ts_val_score, gs5_cl_val_score, gs5_cs_val_score])\n",
    "print(b)"
   ]
  },
  {
   "cell_type": "markdown",
   "metadata": {},
   "source": [
    "From the above results, I note the following :\n",
    "\n",
    "1. Comments always have a better score than titles, so I willl use the comments data to train in the final model. This is expected since there is more data available in comments than titles (ie. there can be several hundreds of comments on a particular post)  \n",
    "\n",
    "\n",
    "2. Generally, stemmed words have a better score than lemmatized words. This is likely because words used in both `r/Conservative` and `r/democrats` are already very distinct from each other, such that a harsher truncation by stemming makes the model more effective. \n",
    "\n",
    "\n",
    "3. Comparing scores on train set, the `RandomForestClassifier` and the `DecisionTreeClassifier` were the best performing model. However, when looking at the average `cross_val_score`, the `RandomForestClassifier` did better. \n",
    "\n",
    "\n",
    "Based on this analysis, I will move forward with the `RandomForestClassifier` model (ie. Pipeline 4)"
   ]
  },
  {
   "cell_type": "markdown",
   "metadata": {},
   "source": [
    "### Model hyperparameter tuning and evaluation\n",
    "I now tune the hyperparameters of the pipeline so it can perform better."
   ]
  },
  {
   "cell_type": "code",
   "execution_count": 109,
   "metadata": {},
   "outputs": [
    {
     "name": "stdout",
     "output_type": "stream",
     "text": [
      "The best accuracy score is : 0.9740546342745734\n",
      "The best parameters are : {'cvec__min_df': 2, 'cvec__ngram_range': (1, 2), 'cvec__stop_words': None, 'rf__max_depth': None}\n",
      "+---------------------------------------------------+\n",
      "| Best Score and Parameters on Training and Test Set  |\n",
      "+-------------------------+-------------------------+\n",
      "|         Dataset         |      Accuracy Score     |\n",
      "+-------------------------+-------------------------+\n",
      "|      Training Set       |          0.994          |\n",
      "|      Validation Set     |          0.985          |\n",
      "|         Test Set        |          0.979          |\n",
      "+-------------------------+-------------------------+\n",
      "Wall time: 1min 53s\n"
     ]
    }
   ],
   "source": [
    "%%time\n",
    "# insert parameters to search over\n",
    "pipe4_params = {\n",
    "    'cvec__ngram_range': [(1,1), (1,2)],\n",
    "    'cvec__stop_words': [None, 'english'],\n",
    "    'cvec__min_df': [2, 3, 6], # limits vocab size by requiring a term appearing in x number of documents to be considered as part of the vocabulary\n",
    "    'rf__max_depth': [None, 1, 3]\n",
    "}\n",
    "# load pipe into grid search\n",
    "gs = GridSearchCV(pipe4, param_grid = pipe4_params, cv = 5)\n",
    "\n",
    "# fit model\n",
    "gs.fit(Xcs_train, ycs_train)\n",
    "\n",
    "# view best score\n",
    "print(f'The best accuracy score is : {gs.best_score_}')\n",
    "print(f'The best parameters are : {gs.best_params_}')\n",
    "\n",
    "#view results in a table\n",
    "c = PrettyTable(title = \"Best Score and Parameters on Training and Test Set \", header_style = 'title', max_table_width = 110)\n",
    "c.field_names = [\"Dataset\", \"Accuracy Score\"]\n",
    "c.add_row([\"Training Set \", round(gs.score(Xcs_train,ycs_train),3)])\n",
    "c.add_row([\"Validation Set\", round(gs.score(Xcs_val,ycs_val),3)])\n",
    "c.add_row([\"Test Set\", round(gs.score(Xcs_test,ycs_test),3)])\n",
    "print(c)"
   ]
  },
  {
   "cell_type": "markdown",
   "metadata": {},
   "source": [
    "From tuning of the hyperparameters, the model performed better than the baseline. Looking at the best parameters,I note the following:\n",
    "\n",
    "1. Surprisingly, not removing stop words improved the model. This suggests that stop words help in making sense of the data with respect to each subreddit. \n",
    "\n",
    "\n",
    "2. ngram range is (1,2) which means both unigrams and bigrams (ie. single words or two words back-to-back) are considered together in training the model to help it perform better. \n",
    "\n",
    "Comparing results to the test set, there is only a small overfit."
   ]
  },
  {
   "cell_type": "code",
   "execution_count": 110,
   "metadata": {},
   "outputs": [
    {
     "name": "stdout",
     "output_type": "stream",
     "text": [
      "The best accuracy score is : 0.9736360051698834\n",
      "+--------------------------------------------------------------------------+\n",
      "| Accuracy Score with Best Parameters on Training, Validation and Test Set  |\n",
      "+--------------------------------------------------+-----------------------+\n",
      "|                     Dataset                      |     Accuracy Score    |\n",
      "+--------------------------------------------------+-----------------------+\n",
      "|         Accuracy score on Training Set           |         0.994         |\n",
      "|         Accuracy score on Validation Set         |         0.985         |\n",
      "|            Accuracy score on Test Set            |         0.979         |\n",
      "+--------------------------------------------------+-----------------------+\n",
      "Wall time: 13.8 s\n"
     ]
    }
   ],
   "source": [
    "%%time\n",
    "# insert best parameters\n",
    "pipex_params = {\n",
    "    'cvec__ngram_range': [(1,2)],\n",
    "    'cvec__stop_words': [None],\n",
    "    'cvec__min_df': [2], # limits vocab size by requiring a term appearing in x number of documents to be considered as part of the vocabulary\n",
    "    'rf__max_depth': [None]\n",
    "}\n",
    "# load pipe into grid search\n",
    "gsx = GridSearchCV(pipe4, param_grid = pipex_params, cv = 5)\n",
    "\n",
    "# fit model\n",
    "gsx.fit(Xcs_train, ycs_train)\n",
    "\n",
    "# view best score\n",
    "print(f'The best accuracy score is : {gsx.best_score_}')\n",
    "\n",
    "#view results in a table\n",
    "d = PrettyTable(title = \"Accuracy Score with Best Parameters on Training, Validation and Test Set \", header_style = 'title', max_table_width = 110)\n",
    "d.field_names = [\"Dataset\", \"Accuracy Score\"]\n",
    "d.add_row([\"Accuracy score on Training Set \", round(gsx.score(Xcs_train,ycs_train),3)])\n",
    "d.add_row([\"Accuracy score on Validation Set\", round(gsx.score(Xcs_val,ycs_val),3)])\n",
    "d.add_row([\"Accuracy score on Test Set\", round(gsx.score(Xcs_test,ycs_test),3)])\n",
    "print(d)"
   ]
  },
  {
   "cell_type": "code",
   "execution_count": 111,
   "metadata": {},
   "outputs": [],
   "source": [
    "y_pred = gsx.predict(Xcs_test)\n",
    "y_pred = [int(numeric_list) for numeric_list in y_pred]\n",
    "ycs_test = [int(numeric_list) for numeric_list in ycs_test]\n",
    "# y_probs = gs.predict_proba(Xcs_test)\n",
    "accuracy_score = round(accuracy_score(ycs_test, y_pred),3)\n",
    "precision_score = round(precision_score(ycs_test, y_pred),3)\n",
    "recall_score = round(recall_score(ycs_test, y_pred),3)\n",
    "f1_score = round(f1_score(ycs_test, y_pred),3)"
   ]
  },
  {
   "cell_type": "code",
   "execution_count": 112,
   "metadata": {},
   "outputs": [
    {
     "name": "stdout",
     "output_type": "stream",
     "text": [
      "+-----------------------------------------------------------------------+\n",
      "|                           Overview of Scores                          |\n",
      "+----------+----------------+-----------------+--------------+----------+\n",
      "| Dataset  | Accuracy Score | Precision Score | Recall Score | F1 Score |\n",
      "+----------+----------------+-----------------+--------------+----------+\n",
      "| Test Set |     0.979      |      0.969      |     0.99     |  0.979   |\n",
      "+----------+----------------+-----------------+--------------+----------+\n"
     ]
    }
   ],
   "source": [
    "# view results in table\n",
    "e = PrettyTable(title = \"Overview of Scores\", header_style = 'title', max_table_width = 120)\n",
    "e.field_names = [\"Dataset\", \"Accuracy Score\", \"Precision Score\", \"Recall Score\", \"F1 Score\"]\n",
    "e.add_row([\"Test Set\", accuracy_score, precision_score, recall_score, f1_score])\n",
    "print(e)"
   ]
  },
  {
   "cell_type": "code",
   "execution_count": 114,
   "metadata": {},
   "outputs": [
    {
     "data": {
      "image/png": "[encoded data removed]",
      "text/plain": [
       "<Figure size 432x288 with 1 Axes>"
      ]
     },
     "metadata": {
      "needs_background": "light"
     },
     "output_type": "display_data"
    }
   ],
   "source": [
    "# calculate the fpr and tpr for all thresholds of the classification\n",
    "probs = gs.predict_proba(Xcs_test)\n",
    "preds = probs[:,1]\n",
    "fpr, tpr, thresholds = roc_curve(ycs_test, preds)\n",
    "roc_auc = auc(fpr, tpr)\n",
    "\n",
    "plt.title('Receiver Operating Characteristic')\n",
    "plt.plot(fpr, tpr, 'b', label = 'AUC = %0.4f' % roc_auc)\n",
    "plt.legend(loc = 'lower right')\n",
    "plt.plot([0, 1], [0, 1],'r--')\n",
    "plt.xlim([0, 1])\n",
    "plt.ylim([0, 1])\n",
    "plt.ylabel('True Positive Rate')\n",
    "plt.xlabel('False Positive Rate')\n",
    "plt.show()"
   ]
  },
  {
   "cell_type": "markdown",
   "metadata": {},
   "source": [
    "From the ROC AUC curve, with a well-performing model, we see that the AUC is close to one."
   ]
  },
  {
   "cell_type": "markdown",
   "metadata": {},
   "source": [
    "### Conclusion\n",
    "\n",
    "Random Forest Classifier performed really well to classify a post between `r/Conservative` and `r/democrats`. This is expected as from the data exploration done earlier, we see pretty distinct words used in each of these subreddits. While we would expect similar topics to be discussed or similar mentions in both `r/Conservative` and  `r/democrats`, from our results, it appears that the content that is discussed in each subreddit goes in very different directions (ie. redditors use very distinct words for each subreddit).\n",
    "\n",
    "**Further Development**\n",
    "\n",
    "With this model, we can perform further sentiment analysis and from public sentiment, we could predict outcomes of future elections. Businesses would then be able to prepare for policy changes and if needed pivot the business in favour of any upcoming policy changes. "
   ]
  },
  {
   "cell_type": "markdown",
   "metadata": {},
   "source": [
    "## References\n",
    "\n",
    "\"Over-sampling\" (Imbalanced-learn, 2017)\n",
    "https://imbalanced-learn.org/stable/over_sampling.html#random-over-sampler\n",
    "\n",
    "\"CountVectorizer in Python\" (Educative Inc.,2021)\n",
    "https://www.educative.io/edpresso/countvectorizer-in-python\n",
    "\n",
    "\"Feature extraction from text using CountVectorizer & TfidfVectorizer\" (Wang, 2020)\n",
    "https://medium.com/@wenxuan0923/feature-extraction-from-text-using-countvectorizer-tfidfvectorizer-9f74f38f86cc\n",
    "\n",
    "\"How to Choose Evaluation Metrics for Classification Models\" (Vidhya, 2020)\n",
    "https://www.analyticsvidhya.com/blog/2020/10/how-to-choose-evaluation-metrics-for-classification-model/"
   ]
  }
 ],
 "metadata": {
  "kernelspec": {
   "display_name": "Python 3",
   "language": "python",
   "name": "python3"
  },
  "language_info": {
   "codemirror_mode": {
    "name": "ipython",
    "version": 3
   },
   "file_extension": ".py",
   "mimetype": "text/x-python",
   "name": "python",
   "nbconvert_exporter": "python",
   "pygments_lexer": "ipython3",
   "version": "3.8.5"
  }
 },
 "nbformat": 4,
 "nbformat_minor": 4
}
